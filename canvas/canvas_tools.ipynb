{
 "cells": [
  {
   "cell_type": "code",
   "execution_count": 22,
   "metadata": {},
   "outputs": [],
   "source": [
    "from canvasapi import Canvas\n",
    "import os\n",
    "from datetime import datetime\n",
    "from  pathlib import Path\n",
    "from bs4 import BeautifulSoup"
   ]
  },
  {
   "cell_type": "code",
   "execution_count": 23,
   "metadata": {},
   "outputs": [],
   "source": [
    "def read_secret_token(file_path):\n",
    "    with open(file_path, 'r') as file:\n",
    "        token = file.read().strip()\n",
    "    return token\n",
    "\n",
    "def initialize_canvas(api_url, api_key):\n",
    "    \"\"\" initialize the Canvas object. \"\"\"\n",
    "    return Canvas(api_url, api_key)\n",
    "\n",
    "def update_assignment(assignment, description):\n",
    "    assignment.edit(assignment={'description': description})\n",
    "\n",
    "\n",
    "\n",
    "def create_assignment(course, name, description):\n",
    "    new_assignment = course.create_assignment({\n",
    "        'name': name,\n",
    "        'submission_types': ['online_upload', \"online_text_entry\"],\n",
    "        'allowed_extensions': ['docx', 'doc', 'pdf', \"\", \"txt\"],\n",
    "        'notify_of_update': True,\n",
    "        'description': description,\n",
    "        'published': True\n",
    "    })\n",
    "    return new_assignment\n",
    "\n",
    "def get_body(file):\n",
    "    with open(file, 'r') as f:\n",
    "        body = f.read()\n",
    "        # Parse the HTML content\n",
    "        soup = BeautifulSoup(body, 'html.parser')\n",
    "\n",
    "        # Find all the links and print their href attributes\n",
    "        for link in soup.find_all('a'):\n",
    "            href = link.get('href')\n",
    "            if href and href.startswith('../'):\n",
    "                link['href'] = 'https://normrubin.github.io/' + href[3:]\n",
    "\n",
    "            # Convert the modified soup back to a string\n",
    "        updated_body = str(soup)\n",
    "    return updated_body\n",
    "\n"
   ]
  },
  {
   "cell_type": "code",
   "execution_count": 24,
   "metadata": {},
   "outputs": [],
   "source": [
    "def clear_assignments(course):\n",
    "    for a in course.get_assignments():\n",
    "        a.delete()\n"
   ]
  },
  {
   "cell_type": "code",
   "execution_count": 25,
   "metadata": {},
   "outputs": [],
   "source": [
    "def copy_homework_files_to_canvas(course, hw_files_path):\n",
    "    hw_files = Path(hw_files_path)\n",
    "    assignments = {a.name: a for a in course.get_assignments()}\n",
    "\n",
    "    for count, file in enumerate(hw_files.glob(\"*.html\")):\n",
    "        name = f\"Homework {file.stem}\"\n",
    "        file_mod_time = datetime.fromtimestamp(os.path.getmtime(file))\n",
    "        if name in assignments:\n",
    "            assignment = assignments[name]\n",
    "            assignment_mod_time = datetime.strptime(assignment.created_at, '%Y-%m-%dT%H:%M:%SZ')\n",
    "            if file_mod_time > assignment_mod_time:\n",
    "                body = get_body(file)\n",
    "                with open(file, 'r') as f:\n",
    "                    body = f.read()\n",
    "                    update_assignment(assignment, body)\n",
    "                    print(f\"Updated Assignment: {name}\")\n",
    "            else:\n",
    "                print(f\"Assignment {name} is up to date.\")\n",
    "        else:\n",
    "            # new assignment \n",
    "            body = get_body(file)\n",
    "            create_assignment(course, name, body)\n",
    "            print(f\"Created Assignment: {name}\")"
   ]
  },
  {
   "cell_type": "code",
   "execution_count": null,
   "metadata": {},
   "outputs": [],
   "source": []
  },
  {
   "cell_type": "code",
   "execution_count": 26,
   "metadata": {},
   "outputs": [
    {
     "name": "stdout",
     "output_type": "stream",
     "text": [
      "Updated Assignment: Homework 5_hw\n",
      "Updated Assignment: Homework project\n",
      "Updated Assignment: Homework 4_hw\n",
      "Updated Assignment: Homework hw0\n",
      "Updated Assignment: Homework 6_extra_credit\n",
      "Updated Assignment: Homework 3_hw\n",
      "Updated Assignment: Homework dynamic\n",
      "Updated Assignment: Homework 1.hw\n",
      "Updated Assignment: Homework 2_hw\n"
     ]
    }
   ],
   "source": [
    "# Main execution\n",
    "API_KEY = read_secret_token('/home/norm/canvas-token.txt')\n",
    "\n",
    "## test location\n",
    "API_URL = \"https://northeastern.instructure.com/\"\n",
    "COURSE_ID = 198229  \n",
    "\n",
    "canvas = initialize_canvas(API_URL, API_KEY)\n",
    "course = canvas.get_course(COURSE_ID)\n",
    "\n",
    "#   clear_assignments(course)\n",
    "# list_course_pages(course)\n",
    "copy_homework_files_to_canvas(course, \"../_site/homework\")\n",
    "\n",
    "# discussions \n",
    "# we want one for each active paper \n",
    "# one for every class in sym "
   ]
  }
 ],
 "metadata": {
  "kernelspec": {
   "display_name": "kaggle_comp",
   "language": "python",
   "name": "python3"
  },
  "language_info": {
   "codemirror_mode": {
    "name": "ipython",
    "version": 3
   },
   "file_extension": ".py",
   "mimetype": "text/x-python",
   "name": "python",
   "nbconvert_exporter": "python",
   "pygments_lexer": "ipython3",
   "version": "3.11.8"
  }
 },
 "nbformat": 4,
 "nbformat_minor": 2
}
