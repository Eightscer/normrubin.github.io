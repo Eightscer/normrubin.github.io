{
 "cells": [
  {
   "cell_type": "raw",
   "metadata": {
    "vscode": {
     "languageId": "raw"
    }
   },
   "source": [
    "---\n",
    "title: \"overview of Bril\"\n",
    "format: html\n",
    "---\n"
   ]
  },
  {
   "cell_type": "markdown",
   "metadata": {
    "vscode": {
     "languageId": "raw"
    }
   },
   "source": [
    "\n",
    "How to use Bril with real code \n",
    "\n",
    "Bril is very simple, very regular, ir. Bril can be extended easily.\n",
    "\n",
    "Bril has lots of tools and examples.\n",
    "\n",
    "lets look at a bril program.\n",
    "\n",
    "Bril is written in JSON format.  Almost all programming languages have a way to read json.\n"
   ]
  },
  {
   "cell_type": "code",
   "execution_count": 76,
   "metadata": {},
   "outputs": [
    {
     "name": "stdout",
     "output_type": "stream",
     "text": [
      "{\n",
      "  \"functions\": [\n",
      "    {\n",
      "      \"name\": \"main\",\n",
      "      \"instrs\": [\n",
      "        {\n",
      "          \"op\": \"const\",\n",
      "          \"type\": \"int\",\n",
      "          \"dest\": \"v0\",\n",
      "          \"value\": 1\n",
      "        },\n",
      "        {\n",
      "          \"op\": \"const\",\n",
      "          \"type\": \"int\",\n",
      "          \"dest\": \"v1\",\n",
      "          \"value\": 2\n",
      "        },\n",
      "        {\n",
      "          \"op\": \"add\",\n",
      "          \"type\": \"int\",\n",
      "          \"dest\": \"v2\",\n",
      "          \"args\": [\n",
      "            \"v0\",\n",
      "            \"v1\"\n",
      "          ]\n",
      "        },\n",
      "        {\n",
      "          \"op\": \"print\",\n",
      "          \"args\": [\n",
      "            \"v2\"\n",
      "          ]\n",
      "        }\n",
      "      ],\n",
      "      \"args\": []\n",
      "    }\n",
      "  ]\n",
      "}\n"
     ]
    }
   ],
   "source": [
    "import json\n",
    "import subprocess\n",
    "import os \n",
    "\n",
    "with open(\"tests/add.json\", \"r\") as f:\n",
    "    bril_program = json.load(f)\n",
    "\n",
    "# print the json with nice indenting\n",
    "print(json.dumps(bril_program, indent=2))\n"
   ]
  },
  {
   "cell_type": "markdown",
   "metadata": {},
   "source": [
    "```\n",
    "{\n",
    "  \"functions\": [\n",
    "    {\n",
    "      \"name\": \"main\",\n",
    "      \"instrs\": [\n",
    "        { \"op\": \"const\", \"type\": \"int\", \"dest\": \"v0\", \"value\": 1 },\n",
    "        { \"op\": \"const\", \"type\": \"int\", \"dest\": \"v1\", \"value\": 2 },\n",
    "        { \"op\": \"add\", \"type\": \"int\", \"dest\": \"v2\",\n",
    "          \"args\": [\"v0\", \"v1\"] },\n",
    "        { \"op\": \"print\", \"args\": [\"v2\"] }\n",
    "      ],\n",
    "      \"args\": []\n",
    "    }\n",
    "  ]\n",
    "}\n",
    "```\n",
    "\n"
   ]
  },
  {
   "cell_type": "markdown",
   "metadata": {},
   "source": [
    "There is also a text form  which is more readable\n",
    "\n",
    "we have program ***bril2txt*** and ***bril2json*** that make it easy to convert. Keep in mind that the json format is Bril and thats where you will do all the work. \n"
   ]
  },
  {
   "cell_type": "code",
   "execution_count": 77,
   "metadata": {},
   "outputs": [
    {
     "name": "stdout",
     "output_type": "stream",
     "text": [
      "@main {\n",
      "  v0: int = const 1;\n",
      "  v1: int = const 2;\n",
      "  v2: int = add v0 v1;\n",
      "  print v2;\n",
      "}\n"
     ]
    },
    {
     "data": {
      "text/plain": [
       "0"
      ]
     },
     "execution_count": 77,
     "metadata": {},
     "output_type": "execute_result"
    }
   ],
   "source": [
    "import os \n",
    "os.system(\"bril2txt < tests/add.json\")"
   ]
  },
  {
   "cell_type": "code",
   "execution_count": 84,
   "metadata": {},
   "outputs": [
    {
     "name": "stdout",
     "output_type": "stream",
     "text": [
      "@main {\n",
      "  v0: int = const 1;\n",
      "  v1: int = const 2;\n",
      "  v2: int = add v0 v1;\n",
      "  print v2;\n",
      "}\n"
     ]
    }
   ],
   "source": [
    "!bril2txt < tests/add.json"
   ]
  },
  {
   "cell_type": "code",
   "execution_count": 78,
   "metadata": {},
   "outputs": [
    {
     "name": "stdout",
     "output_type": "stream",
     "text": [
      "{\n",
      "  \"functions\": [\n",
      "    {\n",
      "      \"instrs\": [\n",
      "        {\n",
      "          \"dest\": \"v0\",\n",
      "          \"op\": \"const\",\n",
      "          \"type\": \"int\",\n",
      "          \"value\": 1\n",
      "        },\n",
      "        {\n",
      "          \"dest\": \"v1\",\n",
      "          \"op\": \"const\",\n",
      "          \"type\": \"int\",\n",
      "          \"value\": 2\n",
      "        },\n",
      "        {\n",
      "          \"args\": [\n",
      "            \"v0\",\n",
      "            \"v1\"\n",
      "          ],\n",
      "          \"dest\": \"v2\",\n",
      "          \"op\": \"add\",\n",
      "          \"type\": \"int\"\n",
      "        },\n",
      "        {\n",
      "          \"args\": [\n",
      "            \"v2\"\n",
      "          ],\n",
      "          \"op\": \"print\"\n",
      "        }\n",
      "      ],\n",
      "      \"name\": \"main\"\n",
      "    }\n",
      "  ]\n",
      "}\n"
     ]
    },
    {
     "data": {
      "text/plain": [
       "0"
      ]
     },
     "execution_count": 78,
     "metadata": {},
     "output_type": "execute_result"
    }
   ],
   "source": [
    "# you can connect tools via pipes \n",
    "os.system(\"bril2txt < tests/add.json | bril2json\")"
   ]
  },
  {
   "cell_type": "markdown",
   "metadata": {},
   "source": [
    "Bril tools were mostly student projects,  as you think about your projects, you might consider adding a new tool.\n",
    "you can setup Bril on your local linux (wsl) machine by cloning the bril github and installing all the tools\n",
    "\n",
    "\n"
   ]
  },
  {
   "cell_type": "code",
   "execution_count": 79,
   "metadata": {},
   "outputs": [
    {
     "name": "stdout",
     "output_type": "stream",
     "text": [
      "3\n"
     ]
    },
    {
     "data": {
      "text/plain": [
       "0"
      ]
     },
     "execution_count": 79,
     "metadata": {},
     "output_type": "execute_result"
    }
   ],
   "source": [
    "# Bril has an interpreter which reads in json and output the result\n",
    "\n",
    "os.system(f'brili <tests/add.json')\n"
   ]
  },
  {
   "cell_type": "markdown",
   "metadata": {},
   "source": [
    "Lets write a sample program - generating the cfg \n",
    "\n",
    "I'll do this in two steps\n",
    "1) find all the basic blocks\n",
    "2) add all the cfg edges \n",
    "\n",
    "finding the basic blocks from a list of instructions-  \n",
    "keep adding instructions till we get to a terminator or a label\n",
    "(do we add labels?)\n",
    "```\n",
    "in: list of instrs \n",
    "out: list of lists of instrs \n",
    "\n",
    "blocks = []\n",
    "curr_block = []\n",
    "for each instr in list \n",
    "   if the instruction is not a label put it on curr_block\n",
    "   if instr is a label or terminator \n",
    "      put curr_block on blocks\n",
    "      curr_block = []\n",
    "\n",
    "if curr_block is not empty add it to blocks\n",
    "return blocks \n",
    "```\n",
    "```\n",
    "find cfg: in is bril progmam in json \n",
    "for each function find the list of instructions \n",
    "    get last_instr \n",
    "    if it is a terminator  br/jmp/ret  \n",
    "    --- what do we want to do with call? \n",
    "    else it is a fall through\n",
    "```\n",
    "we need a map (block_map) label->block so we can add edges for blocks that end in br/jmp - can build this while getting the blocks or we can put the label as \n",
    "the first instruction\n",
    "\n",
    "how do we get fall through? \n",
    "\n",
    "what about a return"
   ]
  },
  {
   "cell_type": "markdown",
   "metadata": {},
   "source": [
    "if every block ends with a terminator, and every block has a label, then no fall through case \n",
    "what happens if try to delete the terminator (because the block never executes)\n",
    "\n",
    "I'll use a python data structure called OrderedDict, when you iterate over the items in a ordered dict,  they come back in the order that they were installed.\n",
    "\n"
   ]
  },
  {
   "cell_type": "code",
   "execution_count": 80,
   "metadata": {},
   "outputs": [],
   "source": [
    "# playing around with hacking- I'll use a generator \n",
    "\n",
    "\n",
    "#Instructions that terminate a basic block.\n",
    "TERMINATORS = 'br', 'jmp', 'ret'\n",
    "\n",
    "\n",
    "def form_blocks(instrs):\n",
    "    \"\"\"Given a list of Bril instructions, generate a sequence of\n",
    "    instruction lists representing the basic blocks in the program.\n",
    "\n",
    "    Every instruction in `instr` will show up in exactly one block. Jump\n",
    "    and branch instructions may only appear at the end of a block, and\n",
    "    control can transfer only to the top of a basic block---so labels\n",
    "    can only appear at the *start* of a basic block. Basic blocks may\n",
    "    not be empty.\n",
    "    \"\"\"\n",
    "\n",
    "    # Start with an empty block.\n",
    "    cur_block = []\n",
    "\n",
    "    for instr in instrs:\n",
    "        if 'op' in instr:  # It's an instruction.\n",
    "            # Add the instruction to the currently-being-formed block.\n",
    "            cur_block.append(instr)\n",
    "\n",
    "            # If this is a terminator (branching instruction), it's the\n",
    "            # last instruction in the block. Finish this block and\n",
    "            # start a new one.\n",
    "            if instr['op'] in TERMINATORS:\n",
    "                yield cur_block\n",
    "                cur_block = []\n",
    "\n",
    "        else:  # It's a label.\n",
    "            # End the block here (if it contains anything).\n",
    "            if cur_block:\n",
    "                yield cur_block\n",
    "\n",
    "            # Start a new block with the label.\n",
    "            cur_block = [instr]\n",
    "\n",
    "    # Produce the final block, if any.\n",
    "    if cur_block:\n",
    "        yield cur_block\n"
   ]
  },
  {
   "cell_type": "code",
   "execution_count": 81,
   "metadata": {},
   "outputs": [
    {
     "name": "stdout",
     "output_type": "stream",
     "text": [
      "anonymous block:\n",
      "{'op': 'const', 'type': 'int', 'dest': 'v0', 'value': 1}\n",
      "{'op': 'const', 'type': 'int', 'dest': 'v1', 'value': 2}\n",
      "{'op': 'add', 'type': 'int', 'dest': 'v2', 'args': ['v0', 'v1']}\n",
      "{'op': 'print', 'args': ['v2']}\n"
     ]
    }
   ],
   "source": [
    "def print_blocks(bril):\n",
    "    \"\"\"Given a Bril program, print out its basic blocks.\n",
    "    \"\"\"\n",
    "\n",
    "\n",
    "    func = bril['functions'][0]  # We only process one function.\n",
    "    for block in form_blocks(func['instrs']):\n",
    "        # Mark the block.\n",
    "        leader = block[0]\n",
    "        if 'label' in leader:\n",
    "            print( f\"block {leader['label']}\")\n",
    "            block = block[1:]  # Hide the label, for concision.\n",
    "        else:\n",
    "            print('anonymous block:')\n",
    "\n",
    "        # Print the instructions.\n",
    "        for instr in block:\n",
    "            print(instr)\n",
    "\n",
    "\n",
    "print_blocks(bril_program)"
   ]
  },
  {
   "cell_type": "code",
   "execution_count": 82,
   "metadata": {},
   "outputs": [
    {
     "name": "stdout",
     "output_type": "stream",
     "text": [
      "@main {\n",
      "  v: int = const 4;\n",
      "  jmp .somewhere;\n",
      "  v: int = const 2;\n",
      ".somewhere:\n",
      "  print v;\n",
      "}\n",
      "\n",
      "{'functions': [{'instrs': [{'dest': 'v', 'op': 'const', 'type': 'int', 'value': 4}, {'labels': ['somewhere'], 'op': 'jmp'}, {'dest': 'v', 'op': 'const', 'type': 'int', 'value': 2}, {'label': 'somewhere'}, {'args': ['v'], 'op': 'print'}], 'name': 'main'}]}\n"
     ]
    }
   ],
   "source": [
    "with open(\"tests/jmp.bril\", 'r') as f:\n",
    "          test2 = f.read()\n",
    "\n",
    "print(test2)\n",
    "\n",
    "\n",
    "result = subprocess.check_output('bril2json <tests/jmp.bril', shell=True)\n",
    "\n",
    "test2json = json.loads(result)\n",
    "print(test2json)"
   ]
  },
  {
   "cell_type": "code",
   "execution_count": 83,
   "metadata": {},
   "outputs": [
    {
     "ename": "KeyError",
     "evalue": "'functions'",
     "output_type": "error",
     "traceback": [
      "\u001b[0;31m---------------------------------------------------------------------------\u001b[0m",
      "\u001b[0;31mKeyError\u001b[0m                                  Traceback (most recent call last)",
      "Cell \u001b[0;32mIn[83], line 1\u001b[0m\n\u001b[0;32m----> 1\u001b[0m \u001b[43mprint_blocks\u001b[49m\u001b[43m(\u001b[49m\u001b[43mtest2json\u001b[49m\u001b[43m[\u001b[49m\u001b[38;5;124;43m'\u001b[39;49m\u001b[38;5;124;43mfunctions\u001b[39;49m\u001b[38;5;124;43m'\u001b[39;49m\u001b[43m]\u001b[49m\u001b[43m[\u001b[49m\u001b[38;5;241;43m0\u001b[39;49m\u001b[43m]\u001b[49m\u001b[43m)\u001b[49m\n",
      "Cell \u001b[0;32mIn[81], line 6\u001b[0m, in \u001b[0;36mprint_blocks\u001b[0;34m(bril)\u001b[0m\n\u001b[1;32m      1\u001b[0m \u001b[38;5;28;01mdef\u001b[39;00m \u001b[38;5;21mprint_blocks\u001b[39m(bril):\n\u001b[1;32m      2\u001b[0m     \u001b[38;5;124;03m\"\"\"Given a Bril program, print out its basic blocks.\u001b[39;00m\n\u001b[1;32m      3\u001b[0m \u001b[38;5;124;03m    \"\"\"\u001b[39;00m\n\u001b[0;32m----> 6\u001b[0m     func \u001b[38;5;241m=\u001b[39m \u001b[43mbril\u001b[49m\u001b[43m[\u001b[49m\u001b[38;5;124;43m'\u001b[39;49m\u001b[38;5;124;43mfunctions\u001b[39;49m\u001b[38;5;124;43m'\u001b[39;49m\u001b[43m]\u001b[49m[\u001b[38;5;241m0\u001b[39m]  \u001b[38;5;66;03m# We only process one function.\u001b[39;00m\n\u001b[1;32m      7\u001b[0m     \u001b[38;5;28;01mfor\u001b[39;00m block \u001b[38;5;129;01min\u001b[39;00m form_blocks(func[\u001b[38;5;124m'\u001b[39m\u001b[38;5;124minstrs\u001b[39m\u001b[38;5;124m'\u001b[39m]):\n\u001b[1;32m      8\u001b[0m         \u001b[38;5;66;03m# Mark the block.\u001b[39;00m\n\u001b[1;32m      9\u001b[0m         leader \u001b[38;5;241m=\u001b[39m block[\u001b[38;5;241m0\u001b[39m]\n",
      "\u001b[0;31mKeyError\u001b[0m: 'functions'"
     ]
    }
   ],
   "source": [
    "print_blocks(test2json['functions'][0])"
   ]
  },
  {
   "cell_type": "code",
   "execution_count": null,
   "metadata": {},
   "outputs": [
    {
     "name": "stdout",
     "output_type": "stream",
     "text": [
      "gen_bk_0 [{'dest': 'v', 'op': 'const', 'type': 'int', 'value': 4}, {'labels': ['somewhere'], 'op': 'jmp'}]\n",
      "gen_bk_1 [{'dest': 'v', 'op': 'const', 'type': 'int', 'value': 2}]\n",
      "somewhere [{'args': ['v'], 'op': 'print'}]\n"
     ]
    }
   ],
   "source": [
    "# now for the map \n",
    "from collections import OrderedDict\n",
    "\n",
    "\n",
    "def block_map(blocks):\n",
    "    \"\"\"Given a sequence of basic blocks, which are lists of instructions,\n",
    "    produce a `OrderedDict` mapping names to blocks.\n",
    "\n",
    "    The name of the block comes from the label it starts with, if any.\n",
    "    Anonymous blocks, which don't start with a label, get an\n",
    "    automatically generated name. Blocks in the mapping have their\n",
    "    labels removed.\n",
    "    \"\"\"\n",
    "    by_name = OrderedDict()\n",
    "\n",
    "    for block in blocks:\n",
    "        # Generate a name for the block.\n",
    "        if 'label' in block[0]:\n",
    "            # The block has a label. Remove the label but use it for the\n",
    "            # block's name.\n",
    "            name = block[0]['label']\n",
    "            block = block[1:]\n",
    "        else:\n",
    "            # Make up a new name for this anonymous block.\n",
    "            name = f'gen_bk_{len(by_name)}'\n",
    "\n",
    "        # Add the block to the mapping.\n",
    "        by_name[name] = block\n",
    "\n",
    "    return by_name\n",
    "\n",
    "\n",
    "blks = form_blocks(test2json['functions'][0]['instrs'])\n",
    "od = block_map(blks)\n",
    "for (name, instrs) in od.items():\n",
    "    print (name, instrs)"
   ]
  },
  {
   "cell_type": "markdown",
   "metadata": {},
   "source": [
    "# finally the cfg\n",
    "\n",
    "~~~\n",
    "out cfg = {} map label -> list of labels the successors of the block\n",
    "\n",
    "for i , block in enumerate(blocks)  # blocks is a ordereddict \n",
    "  last = block[i]  # last instruction\n",
    "  if last is jmp:\n",
    "     cfg[block_name] = jmp.dest\n",
    "  elif last is br:\n",
    "    cfg[block.name] = [ last.if_label, last.else_label]\n",
    "  else\n",
    "     # fall through\n",
    "    cfg[block_name = blocks[i+1].name  ## special case for last block\n",
    "~~~"
   ]
  },
  {
   "cell_type": "code",
   "execution_count": null,
   "metadata": {},
   "outputs": [
    {
     "name": "stdout",
     "output_type": "stream",
     "text": [
      "{'gen_bk_0': ['somewhere'], 'gen_bk_1': ['somewhere']}\n"
     ]
    }
   ],
   "source": [
    "def get_cfg(ordered_blocks):\n",
    "    cfg = {}\n",
    "\n",
    "    labels = list(ordered_blocks.keys())\n",
    "\n",
    "    for i, (block_name, block) in enumerate(ordered_blocks.items()):\n",
    "        last = block[-1]\n",
    "        op = last['op']\n",
    "\n",
    "        if op == 'jmp':\n",
    "            cfg[block_name] = last['labels']\n",
    "        elif op == 'br':\n",
    "            cfg[block_name] = last['labels']\n",
    "        else:\n",
    "            if i+1 < len(labels):  # last block does not fall through\n",
    "                cfg[block_name] = [labels[i+1]]\n",
    "    return cfg\n",
    "\n",
    "\n",
    "blks = form_blocks(test2json['functions'][0]['instrs'])\n",
    "od = block_map(blks)\n",
    "cfg = get_cfg(od)\n",
    "\n",
    "print(cfg)"
   ]
  },
  {
   "cell_type": "markdown",
   "metadata": {},
   "source": []
  }
 ],
 "metadata": {
  "kernelspec": {
   "display_name": "kaggle_comp",
   "language": "python",
   "name": "python3"
  },
  "language_info": {
   "codemirror_mode": {
    "name": "ipython",
    "version": 3
   },
   "file_extension": ".py",
   "mimetype": "text/x-python",
   "name": "python",
   "nbconvert_exporter": "python",
   "pygments_lexer": "ipython3",
   "version": "3.10.12"
  }
 },
 "nbformat": 4,
 "nbformat_minor": 2
}
