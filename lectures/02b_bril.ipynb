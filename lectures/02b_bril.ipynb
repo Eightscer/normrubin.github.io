{
 "cells": [
  {
   "cell_type": "raw",
   "metadata": {
    "vscode": {
     "languageId": "raw"
    }
   },
   "source": [
    "---\n",
    "title: \"_ overview of Bril\"\n",
    "format: \n",
    "    revealjs:\n",
    "        chalkboard: true\n",
    "        output-file: revealjs-bril\n",
    "        scrollable: true\n",
    "        output-location: slide\n",
    "        code-line-numbers: true\n",
    "        freeze: true\n",
    "        execute:\n",
    "            echo: true\n",
    "    html: default\n",
    "sidebar: false\n",
    "---\n"
   ]
  },
  {
   "cell_type": "markdown",
   "metadata": {
    "vscode": {
     "languageId": "raw"
    }
   },
   "source": [
    "\n",
    "How to use Bril with real code \n",
    "\n",
    "1. Bril is very simple, very regular, ir. \n",
    "2. Bril can be extended easily.\n",
    "1. Bril has lots of tools and examples.\n",
    "\n",
    "## Lets look at a bril program.\n",
    "\n",
    "Bril is written in JSON format.  Almost all programming languages have a way to read json.\n"
   ]
  },
  {
   "cell_type": "code",
   "execution_count": 5,
   "metadata": {},
   "outputs": [
    {
     "name": "stdout",
     "output_type": "stream",
     "text": [
      "{\n",
      "  \"functions\": [\n",
      "    {\n",
      "      \"name\": \"main\",\n",
      "      \"instrs\": [\n",
      "        {\n",
      "          \"op\": \"const\",\n",
      "          \"type\": \"int\",\n",
      "          \"dest\": \"v0\",\n",
      "          \"value\": 1\n",
      "        },\n",
      "        {\n",
      "          \"op\": \"const\",\n",
      "          \"type\": \"int\",\n",
      "          \"dest\": \"v1\",\n",
      "          \"value\": 2\n",
      "        },\n",
      "        {\n",
      "          \"op\": \"add\",\n",
      "          \"type\": \"int\",\n",
      "          \"dest\": \"v2\",\n",
      "          \"args\": [\n",
      "            \"v0\",\n",
      "            \"v1\"\n",
      "          ]\n",
      "        },\n",
      "        {\n",
      "          \"op\": \"print\",\n",
      "          \"args\": [\n",
      "            \"v2\"\n",
      "          ]\n",
      "        }\n",
      "      ],\n",
      "      \"args\": []\n",
      "    }\n",
      "  ]\n",
      "}\n"
     ]
    }
   ],
   "source": [
    "import json\n",
    "import subprocess\n",
    "import os \n",
    "\n",
    "with open(\"images/add.json\", \"r\") as f:\n",
    "    bril_program = json.load(f)\n",
    "    \n",
    "print(json.dumps(bril_program, indent=2))\n"
   ]
  },
  {
   "cell_type": "markdown",
   "metadata": {},
   "source": [
    "---\n",
    "\n",
    "I reformatted this to make it simpler  (this is the real Bril format, not the text format)\n",
    "\n",
    "```\n",
    "{\n",
    "  \"functions\": [\n",
    "    {\n",
    "      \"name\": \"main\",\n",
    "      \"instrs\": [\n",
    "        { \"op\": \"const\", \"type\": \"int\", \"dest\": \"v0\", \"value\": 1 },\n",
    "        { \"op\": \"const\", \"type\": \"int\", \"dest\": \"v1\", \"value\": 2 },\n",
    "        { \"op\": \"add\", \"type\": \"int\", \"dest\": \"v2\",\n",
    "          \"args\": [\"v0\", \"v1\"] },\n",
    "        { \"op\": \"print\", \"args\": [\"v2\"] }\n",
    "      ],\n",
    "      \"args\": []\n",
    "    }\n",
    "  ]\n",
    "}\n",
    "```\n",
    "\n"
   ]
  },
  {
   "cell_type": "markdown",
   "metadata": {},
   "source": [
    "## getting started  \n",
    "\n",
    "links:\n",
    "\n",
    "1. [Language specification](https://capra.cs.cornell.edu/bril/)\n",
    "\n",
    "2. [github site ](https://github.com/sampsyo/bril.git)\n"
   ]
  },
  {
   "cell_type": "markdown",
   "metadata": {},
   "source": [
    "# clone the bril repo on a linux or wsl machine \n",
    "\n",
    "git clone https://github.com/sampsyo/bril.git\n",
    "\n"
   ]
  },
  {
   "cell_type": "markdown",
   "metadata": {},
   "source": [
    "---\n",
    "\n",
    "A lot of bril tools were written by students who had different ideas on what language to use. So you need several versions of package managers \n",
    "\n",
    "---\n",
    "\n",
    "[deno](https://deno.com/) is the runtime  for typescript/javascript\n",
    "\n",
    "curl -fsSL https://deno.land/install.sh | sh\n",
    "\n",
    "on my ubuntu machine   'sudo snap install deno' also worked \n",
    "\n",
    "you may need to add $HOME/.deno/bin to your $PATH.\n",
    "\n"
   ]
  },
  {
   "cell_type": "markdown",
   "metadata": {},
   "source": [
    "---\n",
    "\n",
    "install the bril interpreter, and the typescript to bril compiler \n",
    "\n",
    "```\n",
    "cd bril\n",
    "deno install brili.ts \n",
    "deno install --allow-env --allow-read ts2bril.ts\n",
    "\n",
    "\n",
    "\n",
    "\n",
    "\n",
    "```"
   ]
  },
  {
   "cell_type": "code",
   "execution_count": 26,
   "metadata": {},
   "outputs": [
    {
     "name": "stdout",
     "output_type": "stream",
     "text": [
      "3\n",
      "3\n",
      "total_dyn_inst: 4\n"
     ]
    }
   ],
   "source": [
    "## running the interpreter \n",
    "\n",
    "\n",
    "!brili <images/add.json\n",
    "\n",
    "!brili -p <images/add.json\n",
    "\n",
    "# the -p flag turns on  profiling "
   ]
  },
  {
   "cell_type": "markdown",
   "metadata": {},
   "source": [
    "## tools that translate between bril as json and bril as text are in python and get installed with flit\n",
    "\n",
    "~~~\n",
    "pip install --user flit\n",
    "cd bril-txt\n",
    "flit install --symlink --user\n",
    "~~~"
   ]
  },
  {
   "cell_type": "markdown",
   "metadata": {},
   "source": [
    "the text form is more readable\n",
    "\n",
    "we have programs ***bril2txt*** and ***bril2json*** that make it easy to convert. Keep in mind that the json format is Bril and thats where you will do all the work. \n"
   ]
  },
  {
   "cell_type": "code",
   "execution_count": 14,
   "metadata": {},
   "outputs": [
    {
     "name": "stdout",
     "output_type": "stream",
     "text": [
      "@main {\n",
      "  v0: int = const 1;\n",
      "  v1: int = const 2;\n",
      "  v2: int = add v0 v1;\n",
      "  print v2;\n",
      "}\n"
     ]
    },
    {
     "data": {
      "text/plain": [
       "0"
      ]
     },
     "execution_count": 14,
     "metadata": {},
     "output_type": "execute_result"
    }
   ],
   "source": [
    "!bril2txt < images/add.json"
   ]
  },
  {
   "cell_type": "code",
   "execution_count": 29,
   "metadata": {},
   "outputs": [],
   "source": [
    "# you can connect tools via pipes \n",
    "# !bril2txt < images/add.json | bril2json "
   ]
  },
  {
   "cell_type": "code",
   "execution_count": 30,
   "metadata": {},
   "outputs": [
    {
     "name": "stdout",
     "output_type": "stream",
     "text": [
      "{\n",
      "  \"functions\": [\n",
      "    {\n",
      "      \"name\": \"main\",\n",
      "      \"instrs\": [\n",
      "        { \"op\": \"const\", \"type\": \"int\", \"dest\": \"v0\", \"value\": 1 },\n",
      "        { \"op\": \"const\", \"type\": \"int\", \"dest\": \"v1\", \"value\": 2 },\n",
      "        { \"op\": \"add\", \"type\": \"int\", \"dest\": \"v2\",\n",
      "          \"args\": [\"v0\", \"v1\"] },\n",
      "        { \"op\": \"print\", \"args\": [\"v2\"] }\n",
      "      ],\n",
      "      \"args\": []\n",
      "    }\n",
      "  ]\n",
      "}\n",
      "{\n",
      "  \"functions\": [\n",
      "    {\n",
      "      \"instrs\": [\n",
      "        {\n",
      "          \"dest\": \"v0\",\n",
      "          \"op\": \"const\",\n",
      "          \"type\": \"int\",\n",
      "          \"value\": 1\n",
      "        },\n",
      "        {\n",
      "          \"dest\": \"v1\",\n",
      "          \"op\": \"const\",\n",
      "          \"type\": \"int\",\n",
      "          \"value\": 2\n",
      "        },\n",
      "        {\n",
      "          \"args\": [\n",
      "            \"v0\",\n",
      "            \"v1\"\n",
      "          ],\n",
      "          \"dest\": \"v2\",\n",
      "          \"op\": \"add\",\n",
      "          \"type\": \"int\"\n",
      "        },\n",
      "        {\n",
      "          \"args\": [\n",
      "            \"v2\"\n",
      "          ],\n",
      "          \"op\": \"print\"\n",
      "        }\n",
      "      ],\n",
      "      \"name\": \"main\"\n",
      "    }\n",
      "  ]\n",
      "}\n"
     ]
    }
   ],
   "source": [
    "!cat images/add.json\n",
    "!bril2txt < images/add.json | bril2jsonS"
   ]
  },
  {
   "cell_type": "markdown",
   "metadata": {},
   "source": [
    "---\n",
    "\n",
    " There is also a fast interpreter written in [Rust](https://www.rust-lang.org/tools/install)\n",
    "\n",
    "\n"
   ]
  },
  {
   "cell_type": "markdown",
   "metadata": {},
   "source": [
    "---\n",
    "\n",
    "## turnt \n",
    "\n",
    "\n",
    "Bril uses [turnt](https://github.com/cucapra/turnt) as a test tool\n",
    "\n",
    "pip install --user turnt"
   ]
  },
  {
   "cell_type": "markdown",
   "metadata": {},
   "source": [
    "Bril tools were mostly student projects,  as you think about your projects, you might consider adding a new tool.\n",
    "you can setup Bril on your local linux (can be wsl) machine by cloning the bril github and installing all the tools\n",
    "\n",
    "\n"
   ]
  },
  {
   "cell_type": "markdown",
   "metadata": {},
   "source": [
    "## Gen CFG \n",
    "\n",
    "Lets write a sample program - that generate  the cfg \n",
    "\n",
    ". . .\n",
    "\n",
    "I'll do this in two steps\n",
    "\n",
    "1. find all the basic blocks\n",
    "2. add all the cfg edges \n",
    "\n",
    "\n",
    "You can also do this in a single step, adding cfg edges as soon as you reach the successor node.\n"
   ]
  },
  {
   "cell_type": "markdown",
   "metadata": {},
   "source": [
    "## basic blocks from a list of instructions-  \n",
    "keep adding instructions till we get to a terminator or a label\n",
    "(do we add labels?)\n",
    "\n",
    ". . . \n",
    "\n",
    "```\n",
    "in: list of instrs \n",
    "out: list of lists of instrs \n",
    "\n",
    "blocks = []\n",
    "curr_block = []\n",
    "for each instr in list \n",
    "   if the instruction is not a label put it on curr_block\n",
    "   if instr is a label or terminator \n",
    "      put curr_block on blocks\n",
    "      curr_block = []\n",
    "\n",
    "if curr_block is not empty add it to blocks\n",
    "return blocks \n",
    "```\n",
    "\n",
    "two labels in a row do not need another block\n",
    "\n",
    "\n",
    "--- \n",
    "\n",
    "step 2 add edges \n",
    "\n",
    "```\n",
    "find cfg: in is bril program in json \n",
    "for each function find the list of instructions \n",
    " for each basic block\n",
    "    get last_instr \n",
    "    if it is a terminator  br/jmp/ret \n",
    "      add edge from current block to successor  \n",
    "    --- what do we want to do with call? \n",
    "    else it is a fall through\n",
    "       add edge to next block\n",
    "```\n",
    "\n",
    ". . . \n",
    "\n",
    "we need a map (block_map) label->block so we can add edges for blocks that end in br/jmp - can build this while getting the blocks or we can put the label as \n",
    "the first instruction\n",
    "\n",
    "how do we get fall through? \n",
    "\n",
    "what about a return"
   ]
  },
  {
   "cell_type": "markdown",
   "metadata": {},
   "source": [
    "if every block ends with a terminator, and every block has a label, then no fall through case \n",
    "what happens if try to delete the terminator (because the block never executes)\n",
    "\n",
    "\n",
    "## code \n",
    "\n",
    "I'll use a python data structure called OrderedDict, when you iterate over the items in a ordered dict,  they come back in the order that they were installed.\n"
   ]
  },
  {
   "cell_type": "markdown",
   "metadata": {},
   "source": [
    "## playing around with hacking- I'll use a generator \n",
    "\n",
    "\n",
    "```{python code-line-numbers=\"7,9| 8,10\"}\n",
    "\n",
    "#Instructions that terminate a basic block.\n",
    "TERMINATORS = 'br', 'jmp', 'ret'\n",
    "\n",
    "\n",
    "def form_blocks(instrs):\n",
    "    \"\"\"Given a list of Bril instructions, generate a sequence of\n",
    "    instruction lists representing the basic blocks in the program.\n",
    "\n",
    "    Every instruction in `instr` will show up in exactly one block. Jump\n",
    "    and branch instructions may only appear at the end of a block, and\n",
    "    control can transfer only to the top of a basic block---so labels\n",
    "    can only appear at the *start* of a basic block. Basic blocks may\n",
    "    not be empty.\n",
    "    \"\"\"\n",
    "\n",
    "    # Start with an empty block.\n",
    "    cur_block = []\n",
    "\n",
    "    for instr in instrs:\n",
    "        if 'op' in instr:  # It's an instruction.\n",
    "            # Add the instruction to the currently-being-formed block.\n",
    "            cur_block.append(instr)\n",
    "\n",
    "            # If this is a terminator (branching instruction), it's the\n",
    "            # last instruction in the block. Finish this block and\n",
    "            # start a new one.\n",
    "            if instr['op'] in TERMINATORS:\n",
    "                yield cur_block\n",
    "                cur_block = []\n",
    "\n",
    "        else:  # It's a label.\n",
    "            # End the block here (if it contains anything).\n",
    "            if cur_block:\n",
    "                yield cur_block\n",
    "\n",
    "            # Start a new block with the label.\n",
    "            cur_block = [instr]\n",
    "\n",
    "    # Produce the final block, if any.\n",
    "    if cur_block:\n",
    "        yield cur_block\n",
    "````"
   ]
  },
  {
   "cell_type": "code",
   "execution_count": 11,
   "metadata": {},
   "outputs": [
    {
     "name": "stdout",
     "output_type": "stream",
     "text": [
      "anonymous block:\n",
      "{'op': 'const', 'type': 'int', 'dest': 'v0', 'value': 1}\n",
      "{'op': 'const', 'type': 'int', 'dest': 'v1', 'value': 2}\n",
      "{'op': 'add', 'type': 'int', 'dest': 'v2', 'args': ['v0', 'v1']}\n",
      "{'op': 'print', 'args': ['v2']}\n"
     ]
    }
   ],
   "source": [
    "# as a test, lets print out the blocks \n",
    "\n",
    "def print_blocks(bril):\n",
    "    \"\"\"Given a Bril program, print out its basic blocks.\n",
    "    \"\"\"\n",
    "\n",
    "\n",
    "    func = bril['functions'][0]  # We only process one function.\n",
    "    for block in form_blocks(func['instrs']):\n",
    "        # Mark the block.\n",
    "        leader = block[0]\n",
    "        if 'label' in leader:\n",
    "            print( f\"block {leader['label']}\")\n",
    "            block = block[1:]  # Hide the label, for concision.\n",
    "        else:\n",
    "            print('anonymous block:')\n",
    "\n",
    "        # Print the instructions.\n",
    "        for instr in block:\n",
    "            print(instr)\n",
    "\n",
    "\n",
    "print_blocks(bril_program)"
   ]
  },
  {
   "cell_type": "code",
   "execution_count": 28,
   "metadata": {},
   "outputs": [
    {
     "ename": "FileNotFoundError",
     "evalue": "[Errno 2] No such file or directory: 'images/jmp.bril'",
     "output_type": "error",
     "traceback": [
      "\u001b[0;31m---------------------------------------------------------------------------\u001b[0m",
      "\u001b[0;31mFileNotFoundError\u001b[0m                         Traceback (most recent call last)",
      "Cell \u001b[0;32mIn[28], line 1\u001b[0m\n\u001b[0;32m----> 1\u001b[0m \u001b[38;5;28;01mwith\u001b[39;00m \u001b[38;5;28;43mopen\u001b[39;49m\u001b[43m(\u001b[49m\u001b[38;5;124;43m\"\u001b[39;49m\u001b[38;5;124;43mimages/jmp.bril\u001b[39;49m\u001b[38;5;124;43m\"\u001b[39;49m\u001b[43m,\u001b[49m\u001b[43m \u001b[49m\u001b[38;5;124;43m'\u001b[39;49m\u001b[38;5;124;43mr\u001b[39;49m\u001b[38;5;124;43m'\u001b[39;49m\u001b[43m)\u001b[49m \u001b[38;5;28;01mas\u001b[39;00m f:\n\u001b[1;32m      2\u001b[0m           test2 \u001b[38;5;241m=\u001b[39m f\u001b[38;5;241m.\u001b[39mread()\n\u001b[1;32m      4\u001b[0m \u001b[38;5;28mprint\u001b[39m(test2)\n",
      "File \u001b[0;32m~/miniforge3/envs/kaggle_comp/lib/python3.11/site-packages/IPython/core/interactiveshell.py:324\u001b[0m, in \u001b[0;36m_modified_open\u001b[0;34m(file, *args, **kwargs)\u001b[0m\n\u001b[1;32m    317\u001b[0m \u001b[38;5;28;01mif\u001b[39;00m file \u001b[38;5;129;01min\u001b[39;00m {\u001b[38;5;241m0\u001b[39m, \u001b[38;5;241m1\u001b[39m, \u001b[38;5;241m2\u001b[39m}:\n\u001b[1;32m    318\u001b[0m     \u001b[38;5;28;01mraise\u001b[39;00m \u001b[38;5;167;01mValueError\u001b[39;00m(\n\u001b[1;32m    319\u001b[0m         \u001b[38;5;124mf\u001b[39m\u001b[38;5;124m\"\u001b[39m\u001b[38;5;124mIPython won\u001b[39m\u001b[38;5;124m'\u001b[39m\u001b[38;5;124mt let you open fd=\u001b[39m\u001b[38;5;132;01m{\u001b[39;00mfile\u001b[38;5;132;01m}\u001b[39;00m\u001b[38;5;124m by default \u001b[39m\u001b[38;5;124m\"\u001b[39m\n\u001b[1;32m    320\u001b[0m         \u001b[38;5;124m\"\u001b[39m\u001b[38;5;124mas it is likely to crash IPython. If you know what you are doing, \u001b[39m\u001b[38;5;124m\"\u001b[39m\n\u001b[1;32m    321\u001b[0m         \u001b[38;5;124m\"\u001b[39m\u001b[38;5;124myou can use builtins\u001b[39m\u001b[38;5;124m'\u001b[39m\u001b[38;5;124m open.\u001b[39m\u001b[38;5;124m\"\u001b[39m\n\u001b[1;32m    322\u001b[0m     )\n\u001b[0;32m--> 324\u001b[0m \u001b[38;5;28;01mreturn\u001b[39;00m \u001b[43mio_open\u001b[49m\u001b[43m(\u001b[49m\u001b[43mfile\u001b[49m\u001b[43m,\u001b[49m\u001b[43m \u001b[49m\u001b[38;5;241;43m*\u001b[39;49m\u001b[43margs\u001b[49m\u001b[43m,\u001b[49m\u001b[43m \u001b[49m\u001b[38;5;241;43m*\u001b[39;49m\u001b[38;5;241;43m*\u001b[39;49m\u001b[43mkwargs\u001b[49m\u001b[43m)\u001b[49m\n",
      "\u001b[0;31mFileNotFoundError\u001b[0m: [Errno 2] No such file or directory: 'images/jmp.bril'"
     ]
    }
   ],
   "source": [
    "with open(\"images/jmp.bril\", 'r') as f:\n",
    "          test2 = f.read()\n",
    "\n",
    "print(test2)\n",
    "\n",
    "\n",
    "result = subprocess.check_output('bril2json <images/jmp.bril', shell=True)\n",
    "\n",
    "test2json = json.loads(result)\n",
    "print(test2json)"
   ]
  },
  {
   "cell_type": "code",
   "execution_count": null,
   "metadata": {},
   "outputs": [],
   "source": [
    "print_blocks(test2json['functions'][0])"
   ]
  },
  {
   "cell_type": "code",
   "execution_count": null,
   "metadata": {},
   "outputs": [],
   "source": [
    "# now for the map \n",
    "from collections import OrderedDict\n",
    "\n",
    "\n",
    "def block_map(blocks):\n",
    "    \"\"\"Given a sequence of basic blocks, which are lists of instructions,\n",
    "    produce a `OrderedDict` mapping names to blocks.\n",
    "\n",
    "    The name of the block comes from the label it starts with, if any.\n",
    "    Anonymous blocks, which don't start with a label, get an\n",
    "    automatically generated name. Blocks in the mapping have their\n",
    "    labels removed.\n",
    "    \"\"\"\n",
    "    by_name = OrderedDict()\n",
    "\n",
    "    for block in blocks:\n",
    "        # Generate a name for the block.\n",
    "        if 'label' in block[0]:\n",
    "            # The block has a label. Remove the label but use it for the\n",
    "            # block's name.\n",
    "            name = block[0]['label']\n",
    "            block = block[1:]\n",
    "        else:\n",
    "            # Make up a new name for this anonymous block.\n",
    "            name = f'gen_bk_{len(by_name)}'\n",
    "\n",
    "        # Add the block to the mapping.\n",
    "        by_name[name] = block\n",
    "\n",
    "    return by_name\n",
    "\n",
    "\n",
    "blks = form_blocks(test2json['functions'][0]['instrs'])\n",
    "od = block_map(blks)\n",
    "for (name, instrs) in od.items():\n",
    "    print (name, instrs)"
   ]
  },
  {
   "cell_type": "markdown",
   "metadata": {},
   "source": [
    "# finally the cfg\n",
    "\n",
    "~~~\n",
    "out cfg = {} map label -> list of labels the successors of the block\n",
    "\n",
    "for i , block in enumerate(blocks)  # blocks is a ordereddict \n",
    "  last = block[i]  # last instruction\n",
    "  if last is jmp:\n",
    "     cfg[block_name] = jmp.dest\n",
    "  elif last is br:\n",
    "    cfg[block.name] = [ last.if_label, last.else_label]\n",
    "  else\n",
    "     # fall through\n",
    "    cfg[block_name = blocks[i+1].name  ## special case for last block\n",
    "~~~"
   ]
  },
  {
   "cell_type": "code",
   "execution_count": null,
   "metadata": {},
   "outputs": [],
   "source": [
    "def get_cfg(ordered_blocks):\n",
    "    cfg = {}\n",
    "\n",
    "    labels = list(ordered_blocks.keys())\n",
    "\n",
    "    for i, (block_name, block) in enumerate(ordered_blocks.items()):\n",
    "        last = block[-1]\n",
    "        op = last['op']\n",
    "\n",
    "        if op == 'jmp':\n",
    "            cfg[block_name] = last['labels']\n",
    "        elif op == 'br':\n",
    "            cfg[block_name] = last['labels']\n",
    "        else:\n",
    "            if i+1 < len(labels):  # last block does not fall through\n",
    "                cfg[block_name] = [labels[i+1]]\n",
    "    return cfg\n",
    "\n",
    "\n",
    "blks = form_blocks(test2json['functions'][0]['instrs'])\n",
    "od = block_map(blks)\n",
    "cfg = get_cfg(od)\n",
    "\n",
    "print(cfg)"
   ]
  },
  {
   "cell_type": "markdown",
   "metadata": {},
   "source": []
  }
 ],
 "metadata": {
  "kernelspec": {
   "display_name": "kaggle_comp",
   "language": "python",
   "name": "python3"
  },
  "language_info": {
   "codemirror_mode": {
    "name": "ipython",
    "version": 3
   },
   "file_extension": ".py",
   "mimetype": "text/x-python",
   "name": "python",
   "nbconvert_exporter": "python",
   "pygments_lexer": "ipython3",
   "version": "3.11.8"
  }
 },
 "nbformat": 4,
 "nbformat_minor": 2
}
